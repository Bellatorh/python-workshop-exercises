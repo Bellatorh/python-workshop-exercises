{
 "cells": [
  {
   "cell_type": "code",
   "execution_count": null,
   "metadata": {},
   "outputs": [
    {
     "name": "stdout",
     "output_type": "stream",
     "text": [
      "La cadena original era: inteligencia\n",
      "La cadena invertida de es: aicnegiletni\n"
     ]
    }
   ],
   "source": [
    "def invertir_cadena(cadena):\n",
    "   \n",
    "    # Inicializamos una cadena vacía para almacenar el resultado\n",
    "    cadena_invertida = \"\"\n",
    "\n",
    "    # Iteramos sobre la cadena original desde el final hasta el principio\n",
    "    for i in range(len(cadena) - 1, -1, -1):\n",
    "        # Agregamos el caracter actual al inicio de la cadena invertida\n",
    "        cadena_invertida += cadena[i]\n",
    "\n",
    "    # Retornamos a la cadena invertida\n",
    "    return cadena_invertida\n",
    "\n",
    "# Pedimos al usuario que ingrese una cadena\n",
    "cadena_usuario = input(\"Ingresa una cadena de texto: \")\n",
    "\n",
    "# Invertimos la cadena y almacenamos el resultado\n",
    "cadena_invertida = invertir_cadena(cadena_usuario)\n",
    "\n",
    "# Imprimimos el resultado\n",
    "print(\"La cadena original era:\", cadena_usuario)\n",
    "print(\"La cadena invertida de es:\", cadena_invertida)"
   ]
  }
 ],
 "metadata": {
  "kernelspec": {
   "display_name": "Python 3",
   "language": "python",
   "name": "python3"
  },
  "language_info": {
   "codemirror_mode": {
    "name": "ipython",
    "version": 3
   },
   "file_extension": ".py",
   "mimetype": "text/x-python",
   "name": "python",
   "nbconvert_exporter": "python",
   "pygments_lexer": "ipython3",
   "version": "3.13.0"
  }
 },
 "nbformat": 4,
 "nbformat_minor": 2
}
