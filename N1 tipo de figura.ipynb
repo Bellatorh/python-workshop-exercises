{
 "cells": [
  {
   "cell_type": "code",
   "execution_count": 5,
   "metadata": {},
   "outputs": [
    {
     "name": "stdout",
     "output_type": "stream",
     "text": [
      "El área del cuadrado es: 9.0\n"
     ]
    },
    {
     "data": {
      "text/plain": [
       "9.0"
      ]
     },
     "execution_count": 5,
     "metadata": {},
     "output_type": "execute_result"
    }
   ],
   "source": [
    "# Solicita al usuario que especifique el tipo de figura para la cual se calculará el área\n",
    "tipo_figura = input(\"Especifica el tipo de figura (triángulo, cuadrado, rectángulo): \")\n",
    "\n",
    "# Definimos una función que calcule el área de la figura según el tipo \n",
    "def calcular_area(figura):\n",
    "    # Verifica si la figura es un triángulo\n",
    "    if figura == \"triángulo\":\n",
    "        # Solicita al usuario la base y la altura del triángulo\n",
    "        base = float(input(\"Introduce la base del triángulo: \"))\n",
    "        altura = float(input(\"Introduce la altura del triángulo: \"))\n",
    "        # Calcula el área usando la fórmula (base * altura) / 2\n",
    "        area = (base * altura) / 2\n",
    "        # Muestra el área calculada\n",
    "        print(f\"El área del triángulo es: {area}\")\n",
    "        return area\n",
    "    \n",
    "    # Verifica si la figura es un cuadrado\n",
    "    elif figura == \"cuadrado\":\n",
    "        # Solicita al usuario el valor del lado del cuadrado\n",
    "        lado = float(input(\"Introduce el lado del cuadrado: \"))\n",
    "        # Calcula el área usando la fórmula lado^2\n",
    "        area = lado ** 2\n",
    "        # Muestra el área calculada\n",
    "        print(f\"El área del cuadrado es: {area}\")\n",
    "        return area\n",
    "    \n",
    "    # Verifica si la figura es un rectángulo\n",
    "    elif figura == \"rectángulo\":\n",
    "        # Solicita al usuario el ancho y la altura del rectángulo\n",
    "        ancho = float(input(\"Introduce el ancho del rectángulo: \"))\n",
    "        alto = float(input(\"Introduce el alto del rectángulo: \"))\n",
    "        # Calcula el área usando la fórmula ancho * alto\n",
    "        area = ancho * alto\n",
    "        # Muestra el área calculada\n",
    "        print(f\"El área del rectángulo es: {area}\")\n",
    "        return area\n",
    "    \n",
    "    # Si el tipo de figura no es triángulo, cuadrado o rectángulo, muestra un mensaje de error\n",
    "    else:\n",
    "        print(\"Tipo de figura no reconocido.\")\n",
    "        return None\n",
    "\n",
    "# Llama a la función calcular_area pasando el tipo de figura ingresado por el usuario\n",
    "# Esto ejecutará la lógica correspondiente y mostrará el área de la figura, si es válida\n",
    "calcular_area(tipo_figura)\n",
    "\n"
   ]
  }
 ],
 "metadata": {
  "kernelspec": {
   "display_name": "Python 3",
   "language": "python",
   "name": "python3"
  },
  "language_info": {
   "codemirror_mode": {
    "name": "ipython",
    "version": 3
   },
   "file_extension": ".py",
   "mimetype": "text/x-python",
   "name": "python",
   "nbconvert_exporter": "python",
   "pygments_lexer": "ipython3",
   "version": "3.13.0"
  }
 },
 "nbformat": 4,
 "nbformat_minor": 2
}
