{
 "cells": [
  {
   "cell_type": "code",
   "execution_count": null,
   "metadata": {},
   "outputs": [
    {
     "name": "stdout",
     "output_type": "stream",
     "text": [
      "****\n",
      "****\n",
      "****\n",
      "****\n"
     ]
    }
   ],
   "source": [
    "def dibujar_figura(lado, figura):\n",
    "\n",
    "    # Si la figura es un cuadrado:\n",
    "    if figura == \"cuadrado\":\n",
    "        # Repetimos el siguiente bloque de código \"lado\" veces\n",
    "        for _ in range(lado):\n",
    "            # Imprimimos una línea de asteriscos con el tamaño del lado\n",
    "            print(\"*\" * lado)\n",
    "\n",
    "    # Si la figura es un triángulo:\n",
    "    elif figura == \"triangulo\":\n",
    "        # Este bucle se repite \"lado\" veces, pero en cada iteración aumentamos la cantidad de asteriscos\n",
    "        for i in range(1, lado + 1):\n",
    "            # Imprimimos una línea con \"i\" asteriscos\n",
    "            print(\"*\" * i)\n",
    "\n",
    "    # Si la figura no es ni cuadrado ni triángulo, mostramos un mensaje de error\n",
    "    else:\n",
    "        print(\"Figura no válida. Por favor, ingrese 'cuadrado' o 'triangulo'.\")\n",
    "\n",
    "# Pedimos al usuario que ingrese el tamaño del lado y el tipo de figura\n",
    "lado = int(input(\"Ingrese el tamaño del lado: \"))\n",
    "figura = input(\"Ingrese la figura a dibujar (cuadrado o triangulo): \")\n",
    "\n",
    "# Llamamos a la función para dibujar la figura\n",
    "dibujar_figura(lado, figura)"
   ]
  }
 ],
 "metadata": {
  "kernelspec": {
   "display_name": "Python 3",
   "language": "python",
   "name": "python3"
  },
  "language_info": {
   "codemirror_mode": {
    "name": "ipython",
    "version": 3
   },
   "file_extension": ".py",
   "mimetype": "text/x-python",
   "name": "python",
   "nbconvert_exporter": "python",
   "pygments_lexer": "ipython3",
   "version": "3.13.0"
  }
 },
 "nbformat": 4,
 "nbformat_minor": 2
}
