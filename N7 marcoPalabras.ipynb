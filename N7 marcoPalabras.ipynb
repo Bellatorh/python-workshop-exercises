{
 "cells": [
  {
   "cell_type": "code",
   "execution_count": 14,
   "metadata": {},
   "outputs": [
    {
     "name": "stdout",
     "output_type": "stream",
     "text": [
      "*********\n",
      "* hola  *\n",
      "* mundo *\n",
      "*********\n"
     ]
    }
   ],
   "source": [
    "def marco_rectangular(texto):\n",
    "    # Dividir el texto en palabras\n",
    "    palabras = texto.split()\n",
    "    \n",
    "    # Determinar la longitud de la palabra más larga\n",
    "    max_longitud = max(len(palabra) for palabra in palabras)\n",
    "    \n",
    "    # Crear el marco superior\n",
    "    print('*' * (max_longitud + 4))\n",
    "    \n",
    "    # Imprimir cada palabra enmarcada\n",
    "    for palabra in palabras:\n",
    "        # Calcular el espacio a la izquierda y a la derecha\n",
    "        espacio_izquierda = (max_longitud - len(palabra)) // 2\n",
    "        espacio_derecha = max_longitud - len(palabra) - espacio_izquierda\n",
    "        \n",
    "        # Formatear la línea con la palabra\n",
    "        print('*' + ' ' * (espacio_izquierda + 1) + palabra + ' ' * (espacio_derecha + 1) + '*')\n",
    "    \n",
    "    # Crear el marco inferior\n",
    "    print('*' * (max_longitud + 4))\n",
    "\n",
    "# Solicitar al usuario que ingrese un texto\n",
    "texto = input(\"Ingresa un texto: \")\n",
    "marco_rectangular(texto)"
   ]
  }
 ],
 "metadata": {
  "kernelspec": {
   "display_name": "Python 3",
   "language": "python",
   "name": "python3"
  },
  "language_info": {
   "codemirror_mode": {
    "name": "ipython",
    "version": 3
   },
   "file_extension": ".py",
   "mimetype": "text/x-python",
   "name": "python",
   "nbconvert_exporter": "python",
   "pygments_lexer": "ipython3",
   "version": "3.13.0"
  }
 },
 "nbformat": 4,
 "nbformat_minor": 2
}
