{
 "cells": [
  {
   "cell_type": "code",
   "execution_count": 16,
   "metadata": {},
   "outputs": [
    {
     "name": "stdout",
     "output_type": "stream",
     "text": [
      "3 días, 2 horas, 3 minutos y 24 segundos equivalen a \n"
     ]
    },
    {
     "data": {
      "text/plain": [
       "266604000"
      ]
     },
     "execution_count": 16,
     "metadata": {},
     "output_type": "execute_result"
    }
   ],
   "source": [
    "def a_milisegundos():\n",
    "\n",
    "\n",
    "  # Pedimos al usuario que ingrese los valores\n",
    "  dias = int(input(\"Ingrese el número de días: \"))\n",
    "  horas = int(input(\"Ingrese el número de horas: \"))\n",
    "  minutos = int(input(\"Ingrese el número de minutos: \"))\n",
    "  segundos = int(input(\"Ingrese el número de segundos: \"))\n",
    "\n",
    "  # Convertimos cada unidad de tiempo a milisegundos y los sumamos\n",
    "  milisegundos_totales = (\n",
    "      (dias * 24 * 60 * 60) + \n",
    "      (horas * 60 * 60) + \n",
    "      (minutos * 60) + \n",
    "      segundos\n",
    "  ) * 1000\n",
    "\n",
    "  # Mostramos el resultado en un formato legible\n",
    "  print(f\"{dias} días, {horas} horas, {minutos} minutos y {segundos} segundos equivalen a \")\n",
    "\n",
    "  return milisegundos_totales\n",
    "\n",
    "# Llamamos a la función\n",
    "a_milisegundos()\n"
   ]
  }
 ],
 "metadata": {
  "kernelspec": {
   "display_name": "Python 3",
   "language": "python",
   "name": "python3"
  },
  "language_info": {
   "codemirror_mode": {
    "name": "ipython",
    "version": 3
   },
   "file_extension": ".py",
   "mimetype": "text/x-python",
   "name": "python",
   "nbconvert_exporter": "python",
   "pygments_lexer": "ipython3",
   "version": "3.13.0"
  }
 },
 "nbformat": 4,
 "nbformat_minor": 2
}
