{
 "cells": [
  {
   "cell_type": "code",
   "execution_count": 24,
   "metadata": {},
   "outputs": [
    {
     "name": "stdout",
     "output_type": "stream",
     "text": [
      "los valores son: 2023\n",
      "los valores son: 0\n"
     ]
    }
   ],
   "source": [
    "url = \"https://retosdeprogramacion.com?year=2023&challenge=0\"\n",
    "\n",
    "#primero usamos un split para separar la url desde la mitad indicando que se haga desde el '?' y\n",
    "# que tome la segunda parte agregando [1] a la derecha del split\n",
    "\n",
    "parametros = url.split(\"?\")[1]\n",
    "\n",
    "# Dividimos cada parámetro por el símbolo '&'\n",
    "for componente in parametros.split(\"&\"):\n",
    "    # Dividimos cada parámetro por '=' y mostramos el valor agregando [1] a la derecha del print\n",
    "    claveValor = componente.split(\"=\")\n",
    "    if len(claveValor) == 2:\n",
    "        print(f\"los valores son: {claveValor[1]}\")\n"
   ]
  }
 ],
 "metadata": {
  "kernelspec": {
   "display_name": "Python 3",
   "language": "python",
   "name": "python3"
  },
  "language_info": {
   "codemirror_mode": {
    "name": "ipython",
    "version": 3
   },
   "file_extension": ".py",
   "mimetype": "text/x-python",
   "name": "python",
   "nbconvert_exporter": "python",
   "pygments_lexer": "ipython3",
   "version": "3.13.0"
  }
 },
 "nbformat": 4,
 "nbformat_minor": 2
}
