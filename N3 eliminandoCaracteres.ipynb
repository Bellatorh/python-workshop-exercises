{
 "cells": [
  {
   "cell_type": "code",
   "execution_count": 3,
   "metadata": {},
   "outputs": [
    {
     "name": "stdout",
     "output_type": "stream",
     "text": [
      "las cadenas originales son introduccion  programacion\n",
      "Los caracteres únicos en la primera cadena respecto a la segunda son: t ud\n",
      "Los caracteres únicos en la segunda cadena respecto a la primera son: amgp\n"
     ]
    }
   ],
   "source": [
    "def caracteres_unicos(cadena1, cadena2):\n",
    "    # Convertimos las cadenas en conjuntos para eliminar duplicados es decir por ejemplo \"Hola, hola, mundo\". Si \n",
    "    # convirtiéramos esta cadena directamente en un conjunto, Python automáticamente eliminaría las repeticiones \n",
    "    # de la palabra \"hola\", quedando solo una vez lo que aumenta la eficiencia)\n",
    "    conjunto1 = set(cadena1)\n",
    "    conjunto2 = set(cadena2)\n",
    "\n",
    "    # Calculamos los caracteres únicos en cada cadena\n",
    "    unicos_en_str1 = conjunto1 - conjunto2\n",
    "    unicos_en_str2 = conjunto2 - conjunto1\n",
    "\n",
    "    # Convertimos los conjuntos resultantes en cadenas ''.join(unicos_en_str1): Une los elementos del\n",
    "    #  conjunto unicos_en_str1 en una única cadena, separándolos por un espacio vacío.\n",
    "    \n",
    "    resultado1 = ''.join(unicos_en_str1)\n",
    "    resultado2 = ''.join(unicos_en_str2)\n",
    "\n",
    "    return resultado1, resultado2\n",
    "\n",
    "# Pedimos al usuario que ingrese las cadenas\n",
    "cadena1 = input(\"Ingresa la primera cadena: \")\n",
    "cadena2 = input(\"Ingresa la segunda cadena: \")\n",
    "\n",
    "# Llamamos a la función y obtenemos los resultados\n",
    "resultado1, resultado2 = caracteres_unicos(cadena1, cadena2)\n",
    "\n",
    "# Imprimimos los resultados\n",
    "print(\"las cadenas originales son\",cadena1, cadena2)\n",
    "print(\"Los caracteres únicos en la primera cadena respecto a la segunda son:\", resultado1)\n",
    "print(\"Los caracteres únicos en la segunda cadena respecto a la primera son:\", resultado2)"
   ]
  }
 ],
 "metadata": {
  "kernelspec": {
   "display_name": "Python 3",
   "language": "python",
   "name": "python3"
  },
  "language_info": {
   "codemirror_mode": {
    "name": "ipython",
    "version": 3
   },
   "file_extension": ".py",
   "mimetype": "text/x-python",
   "name": "python",
   "nbconvert_exporter": "python",
   "pygments_lexer": "ipython3",
   "version": "3.13.0"
  }
 },
 "nbformat": 4,
 "nbformat_minor": 2
}
