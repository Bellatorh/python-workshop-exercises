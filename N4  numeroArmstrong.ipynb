{
 "cells": [
  {
   "cell_type": "code",
   "execution_count": 3,
   "metadata": {},
   "outputs": [
    {
     "name": "stdout",
     "output_type": "stream",
     "text": [
      "58 no es un número de Armstrong.\n"
     ]
    }
   ],
   "source": [
    "#Un número de Armstrong (o narcisista) es un número natural que es igual a la suma de sus propios dígitos\n",
    "#cada uno elevado a la potencia de la cantidad total de dígitos\n",
    "\n",
    "def es_numero_armstrong(numero):\n",
    "\n",
    "  # Convertimos el número a una cadena para manipular los dígitos individualmente\n",
    "  num_str = str(numero)\n",
    "  # Obtenemos la cantidad de dígitos del número\n",
    "  num_digitos = len(num_str)\n",
    "  # Inicializamos un acumulador para la suma de los dígitos elevados\n",
    "  suma = 0\n",
    "\n",
    "  # Iteramos sobre cada dígito del número\n",
    "  for digito_str in num_str:\n",
    "    # Convertimos el dígito (que está como cadena) a un número entero\n",
    "    digito = int(digito_str)\n",
    "    # Elevamos el dígito a la potencia correspondiente y lo sumamos al acumulador\n",
    "    suma += digito ** num_digitos\n",
    "\n",
    "  # Comparamos la suma con el número original\n",
    "  return suma == numero\n",
    "\n",
    "# Pedimos al usuario que ingrese un número\n",
    "numero = int(input(\"Ingrese un número entero: \"))\n",
    "\n",
    "# Llamamos a la función para verificar si es un numero Armstrong\n",
    "if es_numero_armstrong(numero):\n",
    "  print(numero, \"es un número de Armstrong.\")\n",
    "else:\n",
    "  print(numero, \"no es un número de Armstrong.\")"
   ]
  }
 ],
 "metadata": {
  "kernelspec": {
   "display_name": "Python 3",
   "language": "python",
   "name": "python3"
  },
  "language_info": {
   "codemirror_mode": {
    "name": "ipython",
    "version": 3
   },
   "file_extension": ".py",
   "mimetype": "text/x-python",
   "name": "python",
   "nbconvert_exporter": "python",
   "pygments_lexer": "ipython3",
   "version": "3.13.0"
  }
 },
 "nbformat": 4,
 "nbformat_minor": 2
}
